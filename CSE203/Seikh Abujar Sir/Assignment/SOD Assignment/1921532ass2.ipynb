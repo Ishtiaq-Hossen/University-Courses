{
  "nbformat": 4,
  "nbformat_minor": 0,
  "metadata": {
    "colab": {
      "name": "1921532ass2.ipynb",
      "provenance": [],
      "collapsed_sections": []
    },
    "kernelspec": {
      "name": "python3",
      "display_name": "Python 3"
    },
    "language_info": {
      "name": "python"
    }
  },
  "cells": [
    {
      "cell_type": "markdown",
      "metadata": {
        "id": "qWIt_Ho_skn1"
      },
      "source": [
        "\n",
        "$1.$ Write a console program in cpp to sort an array(size 10) of integers.\n",
        "<br>\n",
        "Your Porgram should match the following output format:\n",
        "<br>\n",
        "Input : 10 8 9 2 3 5 1 4 6 7\n",
        "<br>\n",
        "Output :1 2 3 4 5 6 7 8 9 10\n"
      ]
    },
    {
      "cell_type": "code",
      "metadata": {
        "colab": {
          "base_uri": "https://localhost:8080/"
        },
        "id": "UG5GOEfgsmXq",
        "outputId": "9a8b1adb-05ad-4c67-e191-c9b986f412ea"
      },
      "source": [
        "%%writefile q1.cpp\n",
        "//--------Bismillahir Rahmanir Rahim----------/\n",
        "#include<iostream>\n",
        "using namespace std;\n",
        "int main()\n",
        "{\n",
        "    const int n=10;\n",
        "    /**----if we want to take user input we need that----\n",
        "        \n",
        "    int arr[n],temp;\n",
        "    for(int i=0;i<n;i++) cin>>arr[i];\n",
        "\n",
        "    **/\n",
        "    \n",
        "\n",
        "    //------normal input starts here---/\n",
        "    \n",
        "    int arr[]={10,8,9,2,3,5,1,4,6,7},temp;\n",
        "    //-----normal input ends here------/\n",
        "    \n",
        "    for(int i=0;i<n;i++){\n",
        "        for(int j=0;j<n;j++){\n",
        "            if(arr[i]<arr[j])\n",
        "            {\n",
        "                temp=arr[i];\n",
        "                arr[i]=arr[j];\n",
        "                arr[j]=temp;\n",
        "            }\n",
        "        }\n",
        "    }\n",
        "    for(int i=0;i<n;i++) cout<<arr[i]<<\" \";\n",
        "    cout<<endl;\n",
        "    return 0;\n",
        "}\n",
        "\n",
        "\n",
        "\n",
        "\n",
        "\n"
      ],
      "execution_count": null,
      "outputs": [
        {
          "output_type": "stream",
          "name": "stdout",
          "text": [
            "Writing q1.cpp\n"
          ]
        }
      ]
    },
    {
      "cell_type": "code",
      "metadata": {
        "colab": {
          "base_uri": "https://localhost:8080/"
        },
        "id": "fhoj6OFDs93K",
        "outputId": "cb2d2954-3e45-4683-dd3a-59a2060be525"
      },
      "source": [
        "%%bash \n",
        "g++ q1.cpp -o q1\n",
        "./q1"
      ],
      "execution_count": null,
      "outputs": [
        {
          "output_type": "stream",
          "name": "stdout",
          "text": [
            "1 2 3 4 5 6 7 8 9 10 \n"
          ]
        }
      ]
    },
    {
      "cell_type": "markdown",
      "metadata": {
        "id": "QV-2CmLCssdC"
      },
      "source": [
        "$2.$Write a program in cpp to find out the prime numbers in an **2D array**(arr [4][5])\n",
        "<br>\n",
        "Your Porgram should match the following output format:\n",
        "<br>\n",
        "Input : 2 3 4 5 6 7 8 9 10 11 12 13 14 15 16 17 18 19 20 21\n",
        "<br>\n",
        "Output :2, 3, 5, 7, 11, 13, 17, 19\n"
      ]
    },
    {
      "cell_type": "code",
      "metadata": {
        "colab": {
          "base_uri": "https://localhost:8080/"
        },
        "id": "Y2Slx06UstjM",
        "outputId": "d3825cef-ebcc-48a9-f7dc-b443527b8615"
      },
      "source": [
        "%%writefile q2.cpp\n",
        "#include<iostream>\n",
        "//--------Bismillahir Rahmanir Rahim----------/\n",
        "#include<iostream>\n",
        "using namespace std;\n",
        "int main()\n",
        "{\n",
        "\n",
        "    const int r=4,c=5;\n",
        "    bool isPrime;\n",
        "    /*----for user input---------\n",
        "    int arr[r][c];\n",
        "    for(int i=0;i<r;i++){\n",
        "        for(int j=0;j<c;j++){\n",
        "            cin>>arr[i][j];\n",
        "        }\n",
        "    }\n",
        "\n",
        "    */\n",
        "    \n",
        "    \n",
        "    //------normal input starts here---/\n",
        "    int arr[r][c]={{2,3,4,5,6},\n",
        "                   {7,8,9,10,11},\n",
        "                   {12,13,14,15,16},\n",
        "                   {17,18,19,20,21}};\n",
        "\n",
        "    //------normal input ends here---/\n",
        "\n",
        "    for(int i=0;i<r;i++){\n",
        "        \n",
        "        for(int j=0;j<c;j++){\n",
        "            isPrime=1;\n",
        "            for(int k=2;k<arr[i][j];k++){\n",
        "                if(arr[i][j]%k==0){\n",
        "                    isPrime=0;\n",
        "                    \n",
        "                }\n",
        "            }\n",
        "            if(isPrime) cout<<arr[i][j]<<\",\";\n",
        "\n",
        "            \n",
        "        }\n",
        "    }\n",
        "    cout<<\"\\b \\n\";\n",
        "    \n",
        "    \n",
        "    return 0;\n",
        "}\n",
        "\n"
      ],
      "execution_count": null,
      "outputs": [
        {
          "output_type": "stream",
          "name": "stdout",
          "text": [
            "Writing q2.cpp\n"
          ]
        }
      ]
    },
    {
      "cell_type": "code",
      "metadata": {
        "colab": {
          "base_uri": "https://localhost:8080/"
        },
        "id": "GY5eAX8LtjVy",
        "outputId": "a80b4e04-e7ae-4354-8ca5-7ecef0bb8a78"
      },
      "source": [
        "%%bash\n",
        " g++ q2.cpp -o q2\n",
        "./q2"
      ],
      "execution_count": null,
      "outputs": [
        {
          "output_type": "stream",
          "name": "stdout",
          "text": [
            "2,3,5,7,11,13,17,19,\b \n"
          ]
        }
      ]
    },
    {
      "cell_type": "markdown",
      "metadata": {
        "id": "UtOhbSfQsuyK"
      },
      "source": [
        "$3.$Write a function named decimalToBinary that accepts an integer as a parameter and returns an integer whose digits look like that number's representation in binary (base-2). For example, the call of decimalToBinary(43) should return 101011.\n",
        "Constraints: Do not use a string in your solution. Also do not use any built-in base conversion functions from the system libraries.\n"
      ]
    },
    {
      "cell_type": "markdown",
      "metadata": {
        "id": "jAGITWwhvr1R"
      },
      "source": [
        ""
      ]
    },
    {
      "cell_type": "code",
      "metadata": {
        "colab": {
          "base_uri": "https://localhost:8080/"
        },
        "id": "Zm2Rc7k7s5yo",
        "outputId": "495da78a-afc1-4d2d-d299-8fb0716d365f"
      },
      "source": [
        "%%writefile q3.cpp\n",
        "//--------Bismillahir Rahmanir Rahim----------/\n",
        "#include<iostream>\n",
        "using namespace std;\n",
        "int decimalToBinary(int);\n",
        "int main()\n",
        "{\n",
        "    /**------for user input -------\n",
        "    int n;\n",
        "    cin>>n;\n",
        "    cout<<decimalToBinary(n)<<endl;\n",
        "    **/\n",
        "\n",
        "    //------for normal input-----\n",
        "    cout<<decimalToBinary(43)<<endl;\n",
        "\n",
        "    return 0;\n",
        "}\n",
        "int decimalToBinary(int formalParameter){\n",
        "    int binary=0,temp=0,placement=1;\n",
        "    while(formalParameter)\n",
        "    {\n",
        "        temp=formalParameter%2;//because binary base=2\n",
        "        formalParameter=formalParameter/2;\n",
        "        binary=binary+(temp*placement);\n",
        "        placement=placement*10;//it will help us to placement our binary data\n",
        "\n",
        "    }\n",
        "    return binary;\n",
        "}\n",
        "\n"
      ],
      "execution_count": null,
      "outputs": [
        {
          "output_type": "stream",
          "name": "stdout",
          "text": [
            "Writing q3.cpp\n"
          ]
        }
      ]
    },
    {
      "cell_type": "code",
      "metadata": {
        "colab": {
          "base_uri": "https://localhost:8080/"
        },
        "id": "d1qRnYaGtcyz",
        "outputId": "e08abf99-bf48-4252-ca6a-7268829715ca"
      },
      "source": [
        "%%bash \n",
        "g++ q3.cpp -o q3\n",
        "./q3"
      ],
      "execution_count": null,
      "outputs": [
        {
          "output_type": "stream",
          "name": "stdout",
          "text": [
            "101011\n"
          ]
        }
      ]
    },
    {
      "cell_type": "markdown",
      "metadata": {
        "id": "KNLj9e208H9S"
      },
      "source": [
        "$4.$Write a function named factorCount that accepts an integer (assumed to be positive) as its parameter and returns a count of its positive factors. For example, the eight factors of 24 are 1, 2, 3, 4, 6, 8, 12, and 24, so the call of factorCount(24) should return 8.\n"
      ]
    },
    {
      "cell_type": "code",
      "metadata": {
        "id": "eA6a8-Pptve-",
        "colab": {
          "base_uri": "https://localhost:8080/"
        },
        "outputId": "887ac29b-e056-4e6b-f764-51c6d1ef0476"
      },
      "source": [
        "%%writefile q4.cpp\n",
        "//--------Bismillahir Rahmanir Rahim----------/\n",
        "#include<iostream>\n",
        "using namespace std;\n",
        "int factorCount(int);\n",
        "int main()\n",
        "{\n",
        "    /**-----for user input--\n",
        "    int n;\n",
        "    cin>>n;\n",
        "    cout<<factorCount(n)<<endl;\n",
        "\n",
        "    **/\n",
        "    //---for normal input\n",
        "    cout<<factorCount(24)<<endl;\n",
        "    \n",
        "    return 0;\n",
        "}\n",
        "int factorCount(int formalParameter)\n",
        "{\n",
        "    int temp=1,count=0;\n",
        "    while(1)\n",
        "    {\n",
        "        if(temp>formalParameter)break;\n",
        "        if(formalParameter%temp==0)count++;\n",
        "        temp++;\n",
        "    }\n",
        "    return count;\n",
        "}"
      ],
      "execution_count": null,
      "outputs": [
        {
          "output_type": "stream",
          "name": "stdout",
          "text": [
            "Writing q4.cpp\n"
          ]
        }
      ]
    },
    {
      "cell_type": "code",
      "metadata": {
        "colab": {
          "base_uri": "https://localhost:8080/"
        },
        "id": "-BXjKmMl8FHS",
        "outputId": "0a4d8a7d-8437-4472-ec60-8ae71dfb81c4"
      },
      "source": [
        "%%bash \n",
        "g++ q4.cpp -o q4\n",
        "./q4"
      ],
      "execution_count": null,
      "outputs": [
        {
          "output_type": "stream",
          "name": "stdout",
          "text": [
            "8\n"
          ]
        }
      ]
    }
  ]
}